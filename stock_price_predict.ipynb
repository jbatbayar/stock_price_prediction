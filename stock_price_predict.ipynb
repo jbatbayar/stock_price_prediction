{
 "cells": [
  {
   "cell_type": "code",
   "execution_count": null,
   "metadata": {},
   "outputs": [],
   "source": [
    "import pandas as pd\n",
    "import numpy as np\n",
    "import talib\n",
    "import yfinance as yf\n",
    "import matplotlib.pyplot as plt\n",
    "from sklearn.ensemble import RandomForestClassifier\n",
    "from xgboost import XGBClassifier\n",
    "from sklearn.linear_model import LogisticRegression\n",
    "from sklearn.model_selection import GridSearchCV\n",
    "from sklearn.metrics import accuracy_score, precision_score, recall_score, f1_score\n",
    "from sklearn.metrics import classification_report\n",
    "import shap\n",
    "import plotly.express as px\n",
    "import plotly.graph_objects as go\n",
    "import sys"
   ]
  },
  {
   "cell_type": "code",
   "execution_count": null,
   "metadata": {},
   "outputs": [],
   "source": [
    "df = pd.read_csv('meta_historical.csv')\n",
    "df['Date'] = pd.to_datetime(df['Date'])\n",
    "df['Close/Last'] = df['Close/Last'].str.replace(\"$\", \"\", case=False, regex=False)\n",
    "df = df.astype({'Close/Last': float})\n",
    "df['Open'] = df['Open'].str.replace(\"$\", \"\", case=False, regex=False)\n",
    "df = df.astype({'Open': float})\n",
    "df['High'] = df['High'].str.replace(\"$\", \"\", case=False, regex=False)\n",
    "df = df.astype({'High': float})\n",
    "df['Low'] = df['Low'].str.replace(\"$\", \"\", case=False, regex=False)\n",
    "df = df.astype({'Low': float})\n",
    "df['Return'] = df['Close/Last'].pct_change()\n",
    "df.sort_values(by='Date',inplace=True)"
   ]
  },
  {
   "cell_type": "code",
   "execution_count": null,
   "metadata": {},
   "outputs": [],
   "source": [
    "df"
   ]
  },
  {
   "cell_type": "code",
   "execution_count": null,
   "metadata": {},
   "outputs": [],
   "source": [
    "sp500 = yf.download('^GSPC', start='2015-02-09', end='2025-02-07')\n",
    "vix = yf.download('^VIX', start='2015-02-09', end='2025-02-07')"
   ]
  },
  {
   "cell_type": "code",
   "execution_count": null,
   "metadata": {},
   "outputs": [],
   "source": [
    "sp500.columns = sp500.columns.get_level_values(0)\n",
    "vix.columns = vix.columns.get_level_values(0)"
   ]
  },
  {
   "cell_type": "code",
   "execution_count": null,
   "metadata": {},
   "outputs": [],
   "source": [
    "vix"
   ]
  },
  {
   "cell_type": "code",
   "execution_count": null,
   "metadata": {},
   "outputs": [],
   "source": [
    "sp500"
   ]
  },
  {
   "cell_type": "code",
   "execution_count": null,
   "metadata": {},
   "outputs": [],
   "source": [
    "df = pd.merge(df, sp500[['Close']], left_on='Date', right_index=True, how='left', suffixes=('', '_SP500'))\n",
    "df = pd.merge(df, vix[['Close']], left_on='Date', right_index=True, how='left', suffixes=('', '_VIX'))"
   ]
  },
  {
   "cell_type": "code",
   "execution_count": null,
   "metadata": {},
   "outputs": [],
   "source": [
    "df.rename(columns={'Close': 'Close_SP500'}, inplace=True)\n",
    "df"
   ]
  },
  {
   "cell_type": "code",
   "execution_count": null,
   "metadata": {},
   "outputs": [],
   "source": [
    "# df['Target'] = (df['Price_Change'] >= 0.01).astype(int)\n",
    "df['Price_Change'] = (df['Close/Last'].shift(-1) - df['Close/Last']) / df['Close/Last']\n",
    "df"
   ]
  },
  {
   "cell_type": "code",
   "execution_count": null,
   "metadata": {},
   "outputs": [],
   "source": [
    "df['Target'] = (df['Price_Change'] >= 0.01).astype(int)\n",
    "df.at[0, 'Target'] = np.nan\n",
    "df"
   ]
  },
  {
   "cell_type": "markdown",
   "metadata": {},
   "source": [
    "<h1>Adding Technical Indicators</h1>"
   ]
  },
  {
   "cell_type": "markdown",
   "metadata": {},
   "source": [
    "---"
   ]
  },
  {
   "cell_type": "markdown",
   "metadata": {},
   "source": [
    "**Moving Average (MA)** is the average price of a stock over a specific period (e.g., 10 days).\n",
    "- smooths out price fluctuations and helps identify trends.\n",
    "\n",
    "Moving averages are used to:\n",
    "- Identify trends (upward, downward, or sideways).\n",
    "- Generate buy/sell signals (e.g., when the price crosses above/below the MA).\n"
   ]
  },
  {
   "cell_type": "code",
   "execution_count": null,
   "metadata": {},
   "outputs": [],
   "source": [
    "# df['MA_10'] = df['Close/Last'].rolling(window=10).mean()\n",
    "df['MA_10_Return'] = df['Return'].rolling(10).mean()\n",
    "df"
   ]
  },
  {
   "cell_type": "markdown",
   "metadata": {},
   "source": [
    "---"
   ]
  },
  {
   "cell_type": "markdown",
   "metadata": {},
   "source": [
    "**Relative Strength Index (RSI)** is a momentum oscillator that measures the speed and change of price movements.\n",
    "- ranges from 0 to 100\n",
    "- used to identify *overbought (RSI > 70)* or *oversold (RSI < 30)* conditions.\n",
    "\n",
    "Why It Matters:\n",
    "- helps traders identify *potential reversals in price trends*.\n",
    "- It’s useful for spotting when a stock might be overbought (due for a pullback) or oversold (due for a bounce)."
   ]
  },
  {
   "cell_type": "code",
   "execution_count": null,
   "metadata": {},
   "outputs": [],
   "source": [
    "# df['RSI_14'] = talib.RSI(df['Close/Last'], timeperiod=14)\n",
    "df['RSI_14_Return'] = talib.RSI(df['Return'], timeperiod=14)\n",
    "df"
   ]
  },
  {
   "cell_type": "markdown",
   "metadata": {},
   "source": [
    "---"
   ]
  },
  {
   "cell_type": "markdown",
   "metadata": {},
   "source": [
    "**Moving Average Convergence Divergence (MACD)** is a trend-following momentum indicator.\n",
    "\n",
    "It consists of:\n",
    "- MACD Line: The difference between a 12-day and 26-day exponential moving average (EMA).\n",
    "- Signal Line: A 9-day EMA of the MACD Line.\n",
    "- MACD Histogram: The difference between the MACD Line and the Signal Line.\n",
    "\n",
    "Helps traders identify:\n",
    "- Trend direction (upward or downward).\n",
    "- Buy/sell signals (e.g., when the MACD Line crosses above/below the Signal Line)."
   ]
  },
  {
   "cell_type": "code",
   "execution_count": null,
   "metadata": {},
   "outputs": [],
   "source": [
    "df['MACD'], df['MACD_Signal'], df['MACD_Hist'] = talib.MACD(df['Return'], fastperiod=12, slowperiod=26, signalperiod=9)\n",
    "df[['Date', 'Close/Last', 'MACD', 'MACD_Signal', 'MACD_Hist']]#.head(30)"
   ]
  },
  {
   "cell_type": "code",
   "execution_count": null,
   "metadata": {},
   "outputs": [],
   "source": [
    "df[df['MACD'] > 0]"
   ]
  },
  {
   "cell_type": "markdown",
   "metadata": {},
   "source": [
    "**Volatility**\n",
    "(10-Day Rolling Standard Deviation)"
   ]
  },
  {
   "cell_type": "code",
   "execution_count": null,
   "metadata": {},
   "outputs": [],
   "source": [
    "# df['Volatility'] = df['Close/Last'].pct_change().rolling(10).std()\n",
    "df['Volatility_Return'] = df['Return'].rolling(10).std()\n",
    "df"
   ]
  },
  {
   "cell_type": "code",
   "execution_count": null,
   "metadata": {},
   "outputs": [],
   "source": [
    "df.isnull().sum()"
   ]
  },
  {
   "cell_type": "markdown",
   "metadata": {},
   "source": [
    "**Lagged Prices**"
   ]
  },
  {
   "cell_type": "code",
   "execution_count": null,
   "metadata": {},
   "outputs": [],
   "source": [
    "# df['Close_Lag_5'] = df['Close/Last'].shift(5)\n",
    "df['Return_Lag_5'] = df['Return'].shift(5)\n",
    "df.head(10)"
   ]
  },
  {
   "cell_type": "markdown",
   "metadata": {},
   "source": [
    "**Volume Trends** \n",
    "(10-Day Moving Average of Volume):"
   ]
  },
  {
   "cell_type": "code",
   "execution_count": null,
   "metadata": {},
   "outputs": [],
   "source": [
    "df['Volume_MA_10'] = df['Volume'].rolling(window=10).mean()\n",
    "df[['Date', 'Volume', 'Volume_MA_10']].head(15)"
   ]
  },
  {
   "cell_type": "markdown",
   "metadata": {},
   "source": [
    "**High-Low Range**"
   ]
  },
  {
   "cell_type": "code",
   "execution_count": null,
   "metadata": {},
   "outputs": [],
   "source": [
    "df['Range'] = df['High'] - df['Low']\n",
    "df[['Date', 'High', 'Low', 'Range']].head()"
   ]
  },
  {
   "cell_type": "markdown",
   "metadata": {},
   "source": [
    "**SP500_Return & VIX_MA_10**"
   ]
  },
  {
   "cell_type": "code",
   "execution_count": null,
   "metadata": {},
   "outputs": [],
   "source": [
    "df['SP500_Return'] = df['Close_SP500'].pct_change()\n",
    "df['VIX_MA_10'] = df['Close_VIX'].rolling(window=10).mean()"
   ]
  },
  {
   "cell_type": "code",
   "execution_count": null,
   "metadata": {},
   "outputs": [],
   "source": [
    "print(df.isnull().sum())\n",
    "\n",
    "df = df.dropna()\n",
    "\n",
    "print(df.isnull().sum())"
   ]
  },
  {
   "cell_type": "code",
   "execution_count": null,
   "metadata": {},
   "outputs": [],
   "source": [
    "df"
   ]
  },
  {
   "cell_type": "code",
   "execution_count": null,
   "metadata": {},
   "outputs": [],
   "source": [
    "df.value_counts('Target')"
   ]
  },
  {
   "cell_type": "markdown",
   "metadata": {},
   "source": [
    "---"
   ]
  },
  {
   "cell_type": "markdown",
   "metadata": {},
   "source": [
    "<h1>Building Prediction Model</h1>\n",
    "<h4>Classification: price will rise by at least 1% (1) or not (0)</h4>"
   ]
  },
  {
   "cell_type": "markdown",
   "metadata": {},
   "source": [
    "Why It Matters:\n",
    "\n",
    "- A predictive model can help traders and investors make better decisions by forecasting price movements.\n",
    "- For market-making firms and banks, such models are used to:\n",
    "    - Set bid-ask spreads.\n",
    "    - Manage inventory risk.\n",
    "    - Identify arbitrage opportunities."
   ]
  },
  {
   "cell_type": "code",
   "execution_count": null,
   "metadata": {},
   "outputs": [],
   "source": [
    "# train_df = df[(df['Date'] >= '2018-01-01') & (df['Date'] <= '2023-04-30')]\n",
    "train_df = df[(df['Date'] >= '2023-01-01') & (df['Date'] <= '2024-04-30')]\n",
    "test_df = df[df['Date'] > '2024-04-30']"
   ]
  },
  {
   "cell_type": "code",
   "execution_count": null,
   "metadata": {},
   "outputs": [],
   "source": [
    "test_df"
   ]
  },
  {
   "cell_type": "code",
   "execution_count": null,
   "metadata": {},
   "outputs": [],
   "source": [
    "train_df = train_df.dropna()\n",
    "test_df = test_df.dropna()"
   ]
  },
  {
   "cell_type": "code",
   "execution_count": null,
   "metadata": {},
   "outputs": [],
   "source": [
    "# 193 test rows\n",
    "# 333 train rows"
   ]
  },
  {
   "cell_type": "code",
   "execution_count": null,
   "metadata": {},
   "outputs": [],
   "source": [
    "df.columns"
   ]
  },
  {
   "cell_type": "markdown",
   "metadata": {},
   "source": [
    "**Removed (accroding to feature importances):**\n",
    "- `Return_Lag_5`\n",
    "- `MACD`\n",
    "- `MACD_Signal`"
   ]
  },
  {
   "cell_type": "code",
   "execution_count": null,
   "metadata": {},
   "outputs": [],
   "source": [
    "# features = ['MA_10_Return', 'RSI_14_Return', 'MACD', 'MACD_Signal', 'MACD_Hist', 'Volatility_Return', 'Return_Lag_5', 'Volume_MA_10', 'Range', 'SP500_Return', 'VIX_MA_10']\n",
    "features = ['MA_10_Return', 'RSI_14_Return', 'MACD_Hist', 'Volatility_Return', 'Volume_MA_10', 'Range', 'SP500_Return', 'VIX_MA_10']\n",
    "X_train = train_df[features]\n",
    "X_test = test_df[features]\n",
    "y_train = train_df['Target']\n",
    "y_test = test_df['Target']"
   ]
  },
  {
   "cell_type": "code",
   "execution_count": null,
   "metadata": {},
   "outputs": [],
   "source": [
    "df"
   ]
  },
  {
   "cell_type": "code",
   "execution_count": null,
   "metadata": {},
   "outputs": [],
   "source": [
    "y_train.value_counts()"
   ]
  },
  {
   "cell_type": "code",
   "execution_count": null,
   "metadata": {},
   "outputs": [],
   "source": [
    "y_test.value_counts()"
   ]
  },
  {
   "cell_type": "code",
   "execution_count": null,
   "metadata": {},
   "outputs": [],
   "source": [
    "scale_pos_weight = len(y_train[y_train == 0]) / len(y_train[y_train == 1])\n",
    "model = XGBClassifier(\n",
    "    scale_pos_weight=scale_pos_weight,\n",
    "    n_estimators=200,\n",
    "    max_depth=5,\n",
    "    learning_rate=0.1,\n",
    "    subsample=0.8,\n",
    "    random_state=42\n",
    ")\n",
    "model.fit(X_train, y_train)\n",
    "\n",
    "# y_proba = model.predict_proba(X_test)[:, 1]\n",
    "# y_pred = (y_proba >= 0.3).astype(int)\n",
    "y_pred = model.predict(X_test)\n",
    "\n",
    "accuracy = accuracy_score(y_test, y_pred)\n",
    "precision = precision_score(y_test, y_pred)\n",
    "recall = recall_score(y_test, y_pred)\n",
    "f1 = f1_score(y_test, y_pred)\n",
    "\n",
    "print(f'Results:')\n",
    "print(f'Accuracy: {accuracy:.2f}')\n",
    "print(f'Precision: {precision:.2f}')\n",
    "print(f'Recall: {recall:.2f}')\n",
    "print(f'F1-Score: {f1:.2f}')"
   ]
  },
  {
   "cell_type": "code",
   "execution_count": null,
   "metadata": {},
   "outputs": [],
   "source": [
    "# generate signals\n",
    "# Add predicted probabilities and signals to the test set\n",
    "test_df = X_test.copy()\n",
    "test_df['Close/Last'] = df['Close/Last'].loc[y_test.index]\n",
    "test_df['Predicted_Prob'] = y_pred\n",
    "test_df['Signal'] = y_pred\n",
    "\n",
    "# simulate trades\n",
    "initial_capital = 10000\n",
    "capital = initial_capital\n",
    "position = 0\n",
    "shares_bought = 0\n",
    "portfolio_value = []\n",
    "holding_days = 0\n",
    "buy_price = 0\n",
    "\n",
    "for i in range(len(test_df)):\n",
    "    close_price = test_df['Close/Last'].iloc[i]\n",
    "    \n",
    "    # buy Signal\n",
    "    if test_df['Signal'].iloc[i] == 1 and position == 0:\n",
    "        buy_price = close_price * (1 + 0.0035)  # add slippage\n",
    "        shares_bought = capital / buy_price\n",
    "        capital = 0\n",
    "        position = 1\n",
    "        holding_days = 0\n",
    "    \n",
    "    # sell signal (after holding period or stop-loss)\n",
    "    elif position == 1:\n",
    "        holding_days += 1\n",
    "        sell_price = close_price * (1 - 0.0035)  # subtract slippage\n",
    "        \n",
    "        # stop-loss check\n",
    "        if (sell_price / buy_price - 1) <= -0.05:  # 5% stop-loss\n",
    "            capital = shares_bought * sell_price\n",
    "            position = 0\n",
    "        \n",
    "        # holding period check\n",
    "        elif holding_days >= 5:  # hold for 5 days\n",
    "            capital = shares_bought * sell_price\n",
    "            position = 0\n",
    "    \n",
    "    # portfolio value\n",
    "    portfolio_value.append(capital if position == 0 else shares_bought * close_price)\n",
    "\n",
    "portfolio = pd.Series(portfolio_value, index=range(len(test_df)))\n",
    "\n",
    "# performance Metrics\n",
    "total_profit = portfolio.iloc[-1] - initial_capital\n",
    "daily_returns = portfolio.pct_change().dropna()\n",
    "sharpe_ratio = np.sqrt(252) * (daily_returns.mean() / daily_returns.std())\n",
    "running_max = portfolio.expanding().max()\n",
    "drawdown = (portfolio - running_max) / running_max\n",
    "max_drawdown = drawdown.min()\n",
    "\n",
    "print(\"Backtesting Results:\")\n",
    "print(f\"Total Profit: ${total_profit:.2f}\")\n",
    "print(f\"Sharpe Ratio: {sharpe_ratio:.2f}\")\n",
    "print(f\"Maximum Drawdown: {max_drawdown:.2%}\")\n",
    "\n",
    "# Plot Portfolio Performance\n",
    "# plt.figure(figsize=(12, 6))\n",
    "# plt.plot(portfolio, label='Portfolio Value')\n",
    "# plt.title('Portfolio Performance')\n",
    "# plt.xlabel('Date')\n",
    "# plt.ylabel('Value ($)')\n",
    "# plt.legend()\n",
    "# plt.show()"
   ]
  },
  {
   "cell_type": "code",
   "execution_count": null,
   "metadata": {},
   "outputs": [],
   "source": [
    "# plot portfolio performance\n",
    "fig = go.Figure()\n",
    "fig.add_trace(go.Scatter(x=vis['Date'], y=portfolio, name='Portfolio Value'))\n",
    "fig.update_layout(title='Portfolio Performance Over Time', xaxis_title='Day', yaxis_title='Value ($)',)\n",
    "fig.show()\n",
    "\n",
    "# Sharpe Ratio and drawdown\n",
    "metrics_fig = go.Figure()\n",
    "metrics_fig = go.Figure()\n",
    "metrics_fig.add_trace(go.Indicator(\n",
    "    mode=\"number\",\n",
    "    value=sharpe_ratio,\n",
    "    title={\"text\": f\"Sharpe Ratio:\"},\n",
    "    domain={'row': 0, 'column': 0}\n",
    "))\n",
    "metrics_fig.add_trace(go.Indicator(\n",
    "    mode=\"number\",\n",
    "    value=max_drawdown,\n",
    "    title={\"text\": f\"Max Drawdown:\"},\n",
    "    domain={'row': 0, 'column': 1}\n",
    "))\n",
    "metrics_fig.update_layout(grid={'rows': 1, 'columns': 2})\n",
    "metrics_fig.show()"
   ]
  },
  {
   "cell_type": "code",
   "execution_count": null,
   "metadata": {},
   "outputs": [],
   "source": [
    "portfolio"
   ]
  },
  {
   "cell_type": "code",
   "execution_count": null,
   "metadata": {},
   "outputs": [],
   "source": [
    "importances = model.feature_importances_\n",
    "\n",
    "# feature importances\n",
    "feature_importance_df = pd.DataFrame({\n",
    "    'Feature': features,\n",
    "    'Importance': importances\n",
    "}).sort_values(by='Importance', ascending=False)\n",
    "\n",
    "feature_importance_df"
   ]
  },
  {
   "cell_type": "code",
   "execution_count": null,
   "metadata": {},
   "outputs": [],
   "source": [
    "test_og = df[(df['Date'] > '2024-04-30')]\n",
    "vis = test_df.copy()\n",
    "vis['Date'] = df['Date'].loc[vis.index]\n",
    "vis['Close'] = df['Close/Last'].loc[vis.index]\n",
    "\n",
    "fig = go.Figure()\n",
    "\n",
    "# actual price line\n",
    "fig.add_trace(go.Scatter(x=test_og['Date'], y=test_og['Close/Last'], mode='lines', name='Actual Price', line=dict(color='blue', width=2)))\n",
    "\n",
    "# buy signals\n",
    "fig.add_trace(go.Scatter(x=vis[vis['Signal'] == 1]['Date'], y=vis[vis['Signal'] == 1]['Close'], mode='markers', name='Buy Signal', marker=dict(color='green', symbol='triangle-up', size=10)))\n",
    "\n",
    "# sell signals\n",
    "fig.add_trace(go.Scatter(x=vis[vis['Signal'] == 0]['Date'], y=vis[vis['Signal'] == 0]['Close'], mode='markers', name='Sell Signal', marker=dict(color='red', symbol='triangle-down', size=10)))\n",
    "\n",
    "fig.update_layout(\n",
    "    title='Actual Price vs. Model Predictions',\n",
    "    xaxis_title='Date',\n",
    "    yaxis_title='Price ($)',\n",
    "    legend=dict(x=0, y=1, traceorder='normal')\n",
    ")\n",
    "fig.show()"
   ]
  },
  {
   "cell_type": "code",
   "execution_count": null,
   "metadata": {},
   "outputs": [],
   "source": [
    "explainer = shap.TreeExplainer(model)\n",
    "shap_values = explainer.shap_values(X_test)\n",
    "\n",
    "shap.summary_plot(shap_values, X_test, plot_type=\"bar\", max_display=10, color='orange')"
   ]
  },
  {
   "cell_type": "markdown",
   "metadata": {},
   "source": [
    "LogisticRegression as ML model"
   ]
  },
  {
   "cell_type": "code",
   "execution_count": null,
   "metadata": {},
   "outputs": [],
   "source": [
    "# param_grid = {\n",
    "#     'C': [0.01, 0.1, 1, 10],  # Regularization strength\n",
    "#     'penalty': ['l1', 'l2']    # Regularization type\n",
    "# }\n",
    "\n",
    "# model = LogisticRegression(random_state=42, solver='liblinear')\n",
    "\n",
    "# grid_search = GridSearchCV(model, param_grid, cv=3, scoring='accuracy')\n",
    "# grid_search.fit(X_train, y_train)\n",
    "\n",
    "# print(f'Best Parameters: {grid_search.best_params_}')\n",
    "\n",
    "# best_model = grid_search.best_estimator_\n",
    "# best_model.fit(X_train, y_train)\n",
    "\n",
    "# y_pred = best_model.predict(X_test)\n",
    "\n",
    "# accuracy = accuracy_score(y_test, y_pred)\n",
    "# precision = precision_score(y_test, y_pred)\n",
    "# recall = recall_score(y_test, y_pred)\n",
    "# f1 = f1_score(y_test, y_pred)\n",
    "\n",
    "# # Print the results\n",
    "# print(f'Logistic Regression Results:')\n",
    "# print(f'Accuracy: {accuracy:.2f}')\n",
    "# print(f'Precision: {precision:.2f}')\n",
    "# print(f'Recall: {recall:.2f}')\n",
    "# print(f'F1-Score: {f1:.2f}')"
   ]
  },
  {
   "cell_type": "markdown",
   "metadata": {},
   "source": [
    "RandomForest as ML model"
   ]
  },
  {
   "cell_type": "code",
   "execution_count": null,
   "metadata": {},
   "outputs": [],
   "source": [
    "# param_grid = {\n",
    "#     'n_estimators': [50, 100, 200, 500, 750],\n",
    "#     'max_depth': [None, 2, 5, 10, 20, 50]\n",
    "# }\n",
    "\n",
    "# grid_search = GridSearchCV(RandomForestClassifier(), param_grid, cv=3)\n",
    "\n",
    "# grid_search.fit(X_train, y_train)\n",
    "# print(grid_search.best_params_)"
   ]
  },
  {
   "cell_type": "code",
   "execution_count": null,
   "metadata": {},
   "outputs": [],
   "source": [
    "# model = RandomForestClassifier(max_depth=10, n_estimators=500, random_state=42)\n",
    "\n",
    "# model.fit(X_train, y_train)\n",
    "# y_pred = model.predict(X_test)\n",
    "\n",
    "# accuracy = accuracy_score(y_test, y_pred)\n",
    "# precision = precision_score(y_test, y_pred)\n",
    "# recall = recall_score(y_test, y_pred)\n",
    "# f1 = f1_score(y_test, y_pred)\n",
    "\n",
    "# print(f'Accuracy: {accuracy:.2f}')\n",
    "# print(f'Precision: {precision:.2f}')\n",
    "# print(f'Recall: {recall:.2f}')\n",
    "# print(f'F1-Score: {f1:.2f}')"
   ]
  },
  {
   "cell_type": "code",
   "execution_count": null,
   "metadata": {},
   "outputs": [],
   "source": [
    "# param_grid = {\n",
    "#     'n_estimators': [100, 200, 250],\n",
    "#     'max_depth': [3, 5, 7, 10, None],\n",
    "#     'min_samples_split': [2, 5, 7, 10]\n",
    "# }\n",
    "\n",
    "# model = RandomForestClassifier(random_state=42)\n",
    "\n",
    "# grid_search = GridSearchCV(model, param_grid, cv=3, scoring='accuracy')\n",
    "# grid_search.fit(X_train, y_train)\n",
    "\n",
    "# print(f'Best Parameters: {grid_search.best_params_}')\n",
    "\n",
    "# # best_model = grid_search.best_estimator_\n",
    "# best_model.fit(X_train, y_train)\n",
    "\n",
    "# y_pred = best_model.predict(X_test)\n",
    "\n",
    "# accuracy = accuracy_score(y_test, y_pred)\n",
    "# precision = precision_score(y_test, y_pred)\n",
    "# recall = recall_score(y_test, y_pred)\n",
    "# f1 = f1_score(y_test, y_pred)\n",
    "\n",
    "# print(f'Random Forest Results:')\n",
    "# print(f'Accuracy: {accuracy:.2f}')\n",
    "# print(f'Precision: {precision:.2f}')\n",
    "# print(f'Recall: {recall:.2f}')\n",
    "# print(f'F1-Score: {f1:.2f}')"
   ]
  },
  {
   "cell_type": "code",
   "execution_count": null,
   "metadata": {},
   "outputs": [],
   "source": [
    "# RandomForestClassifier(max_depth=3, min_samples_split=2, n_estimators=250, random_state=42)\n",
    "\n",
    "# model.fit(X_train, y_train)\n",
    "# y_pred = model.predict(X_test)\n",
    "\n",
    "# accuracy = accuracy_score(y_test, y_pred)\n",
    "# precision = precision_score(y_test, y_pred)\n",
    "# recall = recall_score(y_test, y_pred)\n",
    "# f1 = f1_score(y_test, y_pred)\n",
    "\n",
    "# print(f'Accuracy: {accuracy:.2f}')\n",
    "# print(f'Precision: {precision:.2f}')\n",
    "# print(f'Recall: {recall:.2f}')\n",
    "# print(f'F1-Score: {f1:.2f}')"
   ]
  }
 ],
 "metadata": {
  "kernelspec": {
   "display_name": "base",
   "language": "python",
   "name": "python3"
  },
  "language_info": {
   "codemirror_mode": {
    "name": "ipython",
    "version": 3
   },
   "file_extension": ".py",
   "mimetype": "text/x-python",
   "name": "python",
   "nbconvert_exporter": "python",
   "pygments_lexer": "ipython3",
   "version": "3.12.2"
  }
 },
 "nbformat": 4,
 "nbformat_minor": 2
}
